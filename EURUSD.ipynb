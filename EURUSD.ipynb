{
 "cells": [
  {
   "cell_type": "code",
   "execution_count": 12,
   "metadata": {},
   "outputs": [],
   "source": [
    "%matplotlib inline\n",
    "import os\n",
    "import numpy as np\n",
    "import pandas as pd\n",
    "import matplotlib.pyplot as plt\n",
    "import seaborn as sns\n",
    "import pandas_datareader.data as web\n",
    "from datetime import datetime, date\n",
    "from sklearn.metrics import mean_squared_error, roc_auc_score\n",
    "from sklearn.preprocessing import minmax_scale\n",
    "from keras.callbacks import ModelCheckpoint, EarlyStopping\n",
    "from keras.models import Sequential, load_model\n",
    "from keras.layers import Dense, LSTM\n",
    "import keras.backend as K\n",
    "from keras.optimizers import Adam\n",
    "import keras\n",
    "import h5py as h5py\n",
    "import cython\n",
    "from sklearn.preprocessing import MinMaxScaler\n",
    "from sklearn.metrics import r2_score"
   ]
  },
  {
   "cell_type": "code",
   "execution_count": 13,
   "metadata": {},
   "outputs": [
    {
     "data": {
      "text/plain": [
       "'D:\\\\Stanford\\\\CS230\\\\Project'"
      ]
     },
     "execution_count": 13,
     "metadata": {},
     "output_type": "execute_result"
    }
   ],
   "source": [
    "import os\n",
    "os.getcwd()\n",
    "os.chdir('D:\\Stanford\\CS230\\Project')\n",
    "os.getcwd()"
   ]
  },
  {
   "cell_type": "code",
   "execution_count": 14,
   "metadata": {},
   "outputs": [],
   "source": [
    "eurusd_data = pd.read_excel('EURUSDTS.xlsx')\n",
    "raw_data = eurusd_data.dropna()\n",
    "#Convert to scales between 0 and 1\n",
    "raw_data.date = pd.to_datetime(raw_data.date)\n",
    "raw_data_inx = raw_data.set_index([\"date\"], drop=True)\n",
    "raw_data_inx = raw_data_inx.rename(columns = {' value':'value'})\n",
    "raw_data_inx = raw_data_inx.iloc[::-1]"
   ]
  },
  {
   "cell_type": "code",
   "execution_count": 15,
   "metadata": {},
   "outputs": [],
   "source": [
    "#We only model on the EURUSD price on the RNN model\n",
    "price = raw_data_inx[['value']]"
   ]
  },
  {
   "cell_type": "code",
   "execution_count": 16,
   "metadata": {},
   "outputs": [],
   "source": [
    "splitdate = pd.Timestamp('01-01-2016')\n",
    "train_data = price.loc[:splitdate]\n",
    "test_data = price.loc[splitdate:]"
   ]
  },
  {
   "cell_type": "code",
   "execution_count": 17,
   "metadata": {},
   "outputs": [],
   "source": [
    "train_data_scaled = train_data.apply(minmax_scale)\n",
    "test_data_scaled = test_data.apply(minmax_scale)"
   ]
  },
  {
   "cell_type": "code",
   "execution_count": 18,
   "metadata": {},
   "outputs": [],
   "source": [
    "X_train = train_data_scaled[:-1]\n",
    "y_train = train_data_scaled[1:]\n",
    "\n",
    "X_test = test_data_scaled[:-1]\n",
    "y_test = test_data_scaled[1:]"
   ]
  },
  {
   "cell_type": "code",
   "execution_count": 19,
   "metadata": {},
   "outputs": [],
   "source": [
    "#To apply the RNN, we need to convert the data into 3D\n",
    "X_train_lstm = X_train.values.reshape(X_train.shape[0], 1, X_train.shape[1])\n",
    "X_test_lstm = X_test.values.reshape(X_test.shape[0], 1, X_test.shape[1])"
   ]
  },
  {
   "cell_type": "code",
   "execution_count": 20,
   "metadata": {},
   "outputs": [
    {
     "name": "stdout",
     "output_type": "stream",
     "text": [
      "Epoch 1/200\n",
      "1201/1201 [==============================] - 3s 3ms/step - loss: 0.0039\n",
      "Epoch 2/200\n",
      "1201/1201 [==============================] - 3s 2ms/step - loss: 7.6549e-04\n",
      "Epoch 3/200\n",
      "1201/1201 [==============================] - 2s 2ms/step - loss: 7.0979e-04\n",
      "Epoch 4/200\n",
      "1201/1201 [==============================] - 2s 2ms/step - loss: 6.8459e-04\n",
      "Epoch 5/200\n",
      "1201/1201 [==============================] - 2s 2ms/step - loss: 6.6703e-04\n",
      "Epoch 6/200\n",
      "1201/1201 [==============================] - 2s 2ms/step - loss: 6.5128e-04\n",
      "Epoch 7/200\n",
      "1201/1201 [==============================] - 2s 2ms/step - loss: 6.3878e-04\n",
      "Epoch 8/200\n",
      "1201/1201 [==============================] - 2s 2ms/step - loss: 6.3008e-04\n",
      "Epoch 9/200\n",
      "1201/1201 [==============================] - 2s 2ms/step - loss: 6.2142e-04\n",
      "Epoch 10/200\n",
      "1201/1201 [==============================] - 2s 2ms/step - loss: 6.0800e-04\n",
      "Epoch 11/200\n",
      "1201/1201 [==============================] - 2s 2ms/step - loss: 5.9705e-04\n",
      "Epoch 12/200\n",
      "1201/1201 [==============================] - 2s 2ms/step - loss: 5.9101e-04\n",
      "Epoch 13/200\n",
      "1201/1201 [==============================] - 2s 2ms/step - loss: 5.8867e-04\n",
      "Epoch 14/200\n",
      "1201/1201 [==============================] - 2s 2ms/step - loss: 5.8797e-04\n",
      "Epoch 15/200\n",
      "1201/1201 [==============================] - 2s 2ms/step - loss: 5.8722e-04\n",
      "Epoch 16/200\n",
      "1201/1201 [==============================] - 2s 2ms/step - loss: 5.8558e-04\n",
      "Epoch 17/200\n",
      "1201/1201 [==============================] - 2s 2ms/step - loss: 5.8396e-04\n",
      "Epoch 18/200\n",
      "1201/1201 [==============================] - 2s 2ms/step - loss: 5.8238e-04\n",
      "Epoch 19/200\n",
      "1201/1201 [==============================] - 3s 2ms/step - loss: 5.8171e-04\n",
      "Epoch 20/200\n",
      "1201/1201 [==============================] - 2s 2ms/step - loss: 5.7925e-04\n",
      "Epoch 21/200\n",
      "1201/1201 [==============================] - 3s 2ms/step - loss: 5.7753e-04\n",
      "Epoch 22/200\n",
      "1201/1201 [==============================] - 3s 2ms/step - loss: 5.7691e-04\n",
      "Epoch 23/200\n",
      "1201/1201 [==============================] - 3s 3ms/step - loss: 5.7649e-04\n",
      "Epoch 24/200\n",
      "1201/1201 [==============================] - 3s 2ms/step - loss: 5.7621e-04\n",
      "Epoch 25/200\n",
      "1201/1201 [==============================] - 3s 2ms/step - loss: 5.7574e-04\n",
      "Epoch 26/200\n",
      "1201/1201 [==============================] - 3s 2ms/step - loss: 5.7514e-04\n",
      "Epoch 27/200\n",
      "1201/1201 [==============================] - 3s 2ms/step - loss: 5.7465e-04\n",
      "Epoch 28/200\n",
      "1201/1201 [==============================] - 3s 2ms/step - loss: 5.7441e-04\n",
      "Epoch 29/200\n",
      "1201/1201 [==============================] - 2s 2ms/step - loss: 5.7362e-04\n",
      "Epoch 30/200\n",
      "1201/1201 [==============================] - 2s 2ms/step - loss: 5.7244e-04\n",
      "Epoch 31/200\n",
      "1201/1201 [==============================] - 3s 2ms/step - loss: 5.7193e-04\n",
      "Epoch 32/200\n",
      "1201/1201 [==============================] - 3s 2ms/step - loss: 5.7122e-04\n",
      "Epoch 33/200\n",
      "1201/1201 [==============================] - 2s 2ms/step - loss: 5.7045e-04\n",
      "Epoch 34/200\n",
      "1201/1201 [==============================] - 3s 2ms/step - loss: 5.7083e-04\n",
      "Epoch 35/200\n",
      "1201/1201 [==============================] - 2s 2ms/step - loss: 5.7083e-04\n",
      "Epoch 36/200\n",
      "1201/1201 [==============================] - 2s 2ms/step - loss: 5.7084e-04\n",
      "Epoch 37/200\n",
      "1201/1201 [==============================] - 2s 2ms/step - loss: 5.7086e-04\n",
      "Epoch 38/200\n",
      "1201/1201 [==============================] - 2s 2ms/step - loss: 5.7102e-04\n",
      "Epoch 00038: early stopping\n"
     ]
    }
   ],
   "source": [
    "K.clear_session()\n",
    "model_lstm = Sequential()\n",
    "model_lstm.add(LSTM(12, input_shape=(1, X_train.shape[1]), activation='relu', \n",
    "                    kernel_initializer='lecun_uniform', return_sequences=False))\n",
    "\n",
    "model_lstm.add(Dense(1))\n",
    "model_lstm.compile(loss='mean_squared_error', optimizer='adam')\n",
    "early_stop = EarlyStopping(monitor='loss', patience=5, verbose=1)\n",
    "history_model_lstm = model_lstm.fit(X_train_lstm, y_train, epochs=200, batch_size=1, verbose=1, shuffle=False, callbacks=[early_stop])\n",
    "\n",
    "y_pred_test_lstm = model_lstm.predict(X_test_lstm)\n",
    "y_train_pred_lstm = model_lstm.predict(X_train_lstm)"
   ]
  },
  {
   "cell_type": "code",
   "execution_count": 36,
   "metadata": {},
   "outputs": [],
   "source": [
    "model_lstm.save('LSTM_EURUSD.h5')"
   ]
  },
  {
   "cell_type": "code",
   "execution_count": 37,
   "metadata": {},
   "outputs": [
    {
     "name": "stdout",
     "output_type": "stream",
     "text": [
      "Model: \"sequential_1\"\n",
      "_________________________________________________________________\n",
      "Layer (type)                 Output Shape              Param #   \n",
      "=================================================================\n",
      "lstm_1 (LSTM)                (None, 12)                672       \n",
      "_________________________________________________________________\n",
      "dense_1 (Dense)              (None, 1)                 13        \n",
      "=================================================================\n",
      "Total params: 685\n",
      "Trainable params: 685\n",
      "Non-trainable params: 0\n",
      "_________________________________________________________________\n"
     ]
    }
   ],
   "source": [
    "model_lstm.summary()"
   ]
  },
  {
   "cell_type": "code",
   "execution_count": 38,
   "metadata": {},
   "outputs": [
    {
     "name": "stdout",
     "output_type": "stream",
     "text": [
      "4287/4287 [==============================] - 3s 740us/step\n"
     ]
    }
   ],
   "source": [
    "model_lstm = load_model('LSTM_EURUSD.h5')\n",
    "score_lstm= model_lstm.evaluate(X_test_lstm, y_test, batch_size=1)"
   ]
  },
  {
   "cell_type": "code",
   "execution_count": 39,
   "metadata": {},
   "outputs": [],
   "source": [
    "y_pred_test_LSTM = model_lstm.predict(X_test_lstm)\n",
    "y_test_reset = y_test.reset_index()\n",
    "y_true = y_test.value.to_numpy()"
   ]
  },
  {
   "cell_type": "code",
   "execution_count": 40,
   "metadata": {},
   "outputs": [],
   "source": [
    "col1 = pd.DataFrame(y_true, columns=['True'])\n",
    "col2 = pd.DataFrame(y_pred_test_LSTM, columns=['LSTM_prediction'])\n",
    "col3 = pd.DataFrame(history_model_lstm.history['loss'], columns=['Loss_LSTM'])\n",
    "results = pd.concat([col1, col2, col3], axis=1)"
   ]
  },
  {
   "cell_type": "code",
   "execution_count": 41,
   "metadata": {},
   "outputs": [
    {
     "data": {
      "image/png": "[encoded data removed]",
      "text/plain": [
       "<Figure size 432x288 with 1 Axes>"
      ]
     },
     "metadata": {
      "needs_background": "light"
     },
     "output_type": "display_data"
    }
   ],
   "source": [
    "plt.plot(results['True'], label='True')\n",
    "plt.plot(results['LSTM_prediction'], label='LSTM_prediction')\n",
    "plt.title(\"EURUSD Prediction\")\n",
    "plt.xlabel('Observation')\n",
    "plt.ylabel('EURUSD Scaled')\n",
    "plt.legend()\n",
    "plt.show()"
   ]
  },
  {
   "cell_type": "code",
   "execution_count": null,
   "metadata": {},
   "outputs": [],
   "source": []
  }
 ],
 "metadata": {
  "kernelspec": {
   "display_name": "Python 3",
   "language": "python",
   "name": "python3"
  },
  "language_info": {
   "codemirror_mode": {
    "name": "ipython",
    "version": 3
   },
   "file_extension": ".py",
   "mimetype": "text/x-python",
   "name": "python",
   "nbconvert_exporter": "python",
   "pygments_lexer": "ipython3",
   "version": "3.7.4"
  }
 },
 "nbformat": 4,
 "nbformat_minor": 2
}
