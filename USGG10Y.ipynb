{
 "cells": [
  {
   "cell_type": "code",
   "execution_count": 72,
   "metadata": {},
   "outputs": [],
   "source": [
    "%matplotlib inline\n",
    "import os\n",
    "import numpy as np\n",
    "import pandas as pd\n",
    "import matplotlib.pyplot as plt\n",
    "import seaborn as sns\n",
    "import pandas_datareader.data as web\n",
    "from datetime import datetime, date\n",
    "from sklearn.metrics import mean_squared_error, roc_auc_score\n",
    "from sklearn.preprocessing import minmax_scale\n",
    "from keras.callbacks import ModelCheckpoint, EarlyStopping\n",
    "from keras.models import Sequential, load_model\n",
    "from keras.layers import Dense, LSTM\n",
    "import keras.backend as K\n",
    "from keras.optimizers import Adam\n",
    "import keras\n",
    "import h5py as h5py\n",
    "import cython\n",
    "from sklearn.preprocessing import MinMaxScaler\n",
    "from sklearn.metrics import r2_score"
   ]
  },
  {
   "cell_type": "code",
   "execution_count": 73,
   "metadata": {},
   "outputs": [
    {
     "data": {
      "text/plain": [
       "'D:\\\\Stanford\\\\CS230\\\\Project'"
      ]
     },
     "execution_count": 73,
     "metadata": {},
     "output_type": "execute_result"
    }
   ],
   "source": [
    "import os\n",
    "os.getcwd()\n",
    "os.chdir('D:\\Stanford\\CS230\\Project')\n",
    "os.getcwd()"
   ]
  },
  {
   "cell_type": "code",
   "execution_count": 74,
   "metadata": {},
   "outputs": [],
   "source": [
    "usgg10_data = pd.read_csv('USGG10TS.csv')"
   ]
  },
  {
   "cell_type": "code",
   "execution_count": 75,
   "metadata": {},
   "outputs": [
    {
     "data": {
      "text/plain": [
       "Index(['Date', 'Price', 'Open', 'High', 'Low', 'Change %'], dtype='object')"
      ]
     },
     "execution_count": 75,
     "metadata": {},
     "output_type": "execute_result"
    }
   ],
   "source": [
    "usgg10_data.columns"
   ]
  },
  {
   "cell_type": "code",
   "execution_count": 76,
   "metadata": {},
   "outputs": [
    {
     "name": "stderr",
     "output_type": "stream",
     "text": [
      "C:\\Users\\owen1\\Anaconda3\\lib\\site-packages\\ipykernel_launcher.py:3: UserWarning: Pandas doesn't allow columns to be created via a new attribute name - see https://pandas.pydata.org/pandas-docs/stable/indexing.html#attribute-access\n",
      "  This is separate from the ipykernel package so we can avoid doing imports until\n"
     ]
    }
   ],
   "source": [
    "raw_data = usgg10_data.dropna()\n",
    "#Convert to scales between 0 and 1\n",
    "raw_data.date = pd.to_datetime(raw_data.Date)\n",
    "raw_data_inx = raw_data.set_index([\"Date\"], drop=True)\n"
   ]
  },
  {
   "cell_type": "code",
   "execution_count": 77,
   "metadata": {},
   "outputs": [],
   "source": [
    "#Convert prices in basis points\n",
    "price = raw_data_inx[['Price']]*100"
   ]
  },
  {
   "cell_type": "code",
   "execution_count": 78,
   "metadata": {},
   "outputs": [],
   "source": [
    "#Convert the dataseries to datetime to facilitate splitting into training and testing data\n",
    "price.index = pd.to_datetime(price.index)"
   ]
  },
  {
   "cell_type": "code",
   "execution_count": 79,
   "metadata": {},
   "outputs": [],
   "source": [
    "#The training data is from beginning to 1/1/2016, and the test data is everything onwards\n",
    "splitdate = pd.Timestamp('1-Jan-16')\n",
    "train_data = price.loc[:splitdate]\n",
    "test_data = price.loc[splitdate:]"
   ]
  },
  {
   "cell_type": "code",
   "execution_count": 80,
   "metadata": {},
   "outputs": [],
   "source": [
    "#Apply the min/max scale\n",
    "train_data_scaled = train_data.apply(minmax_scale)\n",
    "test_data_scaled = test_data.apply(minmax_scale)"
   ]
  },
  {
   "cell_type": "code",
   "execution_count": 81,
   "metadata": {},
   "outputs": [],
   "source": [
    "X_train = train_data_scaled[:-1]\n",
    "y_train = train_data_scaled[1:]\n",
    "\n",
    "X_test = test_data_scaled[:-1]\n",
    "y_test = test_data_scaled[1:]"
   ]
  },
  {
   "cell_type": "code",
   "execution_count": 82,
   "metadata": {},
   "outputs": [],
   "source": [
    "X_train_lstm = X_train.values.reshape(X_train.shape[0], 1, X_train.shape[1])\n",
    "X_test_lstm = X_test.values.reshape(X_test.shape[0], 1, X_test.shape[1])"
   ]
  },
  {
   "cell_type": "code",
   "execution_count": 83,
   "metadata": {},
   "outputs": [
    {
     "name": "stdout",
     "output_type": "stream",
     "text": [
      "Epoch 1/200\n",
      "6756/6756 [==============================] - 14s 2ms/step - loss: 0.0186\n",
      "Epoch 2/200\n",
      "6756/6756 [==============================] - 13s 2ms/step - loss: 5.2779e-04\n",
      "Epoch 3/200\n",
      "6756/6756 [==============================] - 14s 2ms/step - loss: 2.9875e-04\n",
      "Epoch 4/200\n",
      "6756/6756 [==============================] - 13s 2ms/step - loss: 2.3347e-04\n",
      "Epoch 5/200\n",
      "6756/6756 [==============================] - 13s 2ms/step - loss: 2.0404e-04\n",
      "Epoch 6/200\n",
      "6756/6756 [==============================] - 13s 2ms/step - loss: 1.9291e-04\n",
      "Epoch 7/200\n",
      "6756/6756 [==============================] - 13s 2ms/step - loss: 1.8643e-04\n",
      "Epoch 8/200\n",
      "6756/6756 [==============================] - 13s 2ms/step - loss: 1.8167e-04\n",
      "Epoch 9/200\n",
      "6756/6756 [==============================] - 13s 2ms/step - loss: 1.7785e-04\n",
      "Epoch 10/200\n",
      "6756/6756 [==============================] - 13s 2ms/step - loss: 1.7463e-04\n",
      "Epoch 11/200\n",
      "6756/6756 [==============================] - 13s 2ms/step - loss: 1.7171e-04\n",
      "Epoch 12/200\n",
      "6756/6756 [==============================] - 13s 2ms/step - loss: 1.6906e-04\n",
      "Epoch 13/200\n",
      "6756/6756 [==============================] - 12s 2ms/step - loss: 1.6642e-04\n",
      "Epoch 14/200\n",
      "6756/6756 [==============================] - 13s 2ms/step - loss: 1.6435e-04\n",
      "Epoch 15/200\n",
      "6756/6756 [==============================] - 13s 2ms/step - loss: 1.6226e-04\n",
      "Epoch 16/200\n",
      "6756/6756 [==============================] - 13s 2ms/step - loss: 1.6032e-04\n",
      "Epoch 17/200\n",
      "6756/6756 [==============================] - 13s 2ms/step - loss: 1.5838e-04\n",
      "Epoch 18/200\n",
      "6756/6756 [==============================] - 12s 2ms/step - loss: 1.5591e-04\n",
      "Epoch 19/200\n",
      "6756/6756 [==============================] - 13s 2ms/step - loss: 1.5380e-04\n",
      "Epoch 20/200\n",
      "6756/6756 [==============================] - 13s 2ms/step - loss: 1.5129e-04\n",
      "Epoch 21/200\n",
      "6756/6756 [==============================] - 13s 2ms/step - loss: 1.4854e-04\n",
      "Epoch 22/200\n",
      "6756/6756 [==============================] - 13s 2ms/step - loss: 1.4650e-04\n",
      "Epoch 23/200\n",
      "6756/6756 [==============================] - 13s 2ms/step - loss: 1.4485e-04\n",
      "Epoch 24/200\n",
      "6756/6756 [==============================] - 13s 2ms/step - loss: 1.4338e-04\n",
      "Epoch 25/200\n",
      "6756/6756 [==============================] - 13s 2ms/step - loss: 1.4227e-04\n",
      "Epoch 26/200\n",
      "6756/6756 [==============================] - 13s 2ms/step - loss: 1.4124e-04\n",
      "Epoch 27/200\n",
      "6756/6756 [==============================] - 13s 2ms/step - loss: 1.4038e-04\n",
      "Epoch 28/200\n",
      "6756/6756 [==============================] - 13s 2ms/step - loss: 1.3952e-04\n",
      "Epoch 29/200\n",
      "6756/6756 [==============================] - 13s 2ms/step - loss: 1.3873e-04\n",
      "Epoch 30/200\n",
      "6756/6756 [==============================] - 13s 2ms/step - loss: 1.3791e-04\n",
      "Epoch 31/200\n",
      "6756/6756 [==============================] - 13s 2ms/step - loss: 1.3709e-04\n",
      "Epoch 32/200\n",
      "6756/6756 [==============================] - 13s 2ms/step - loss: 1.3621e-04\n",
      "Epoch 33/200\n",
      "6756/6756 [==============================] - 13s 2ms/step - loss: 1.3545e-04\n",
      "Epoch 34/200\n",
      "6756/6756 [==============================] - 13s 2ms/step - loss: 1.3464e-04\n",
      "Epoch 35/200\n",
      "6756/6756 [==============================] - 13s 2ms/step - loss: 1.3366e-04\n",
      "Epoch 36/200\n",
      "6756/6756 [==============================] - 13s 2ms/step - loss: 1.3352e-04\n",
      "Epoch 37/200\n",
      "6756/6756 [==============================] - 13s 2ms/step - loss: 1.3342e-04\n",
      "Epoch 38/200\n",
      "6756/6756 [==============================] - 13s 2ms/step - loss: 1.3339e-04\n",
      "Epoch 39/200\n",
      "6756/6756 [==============================] - 13s 2ms/step - loss: 1.3312e-04\n",
      "Epoch 40/200\n",
      "6756/6756 [==============================] - 14s 2ms/step - loss: 1.3273e-04\n",
      "Epoch 41/200\n",
      "6756/6756 [==============================] - 14s 2ms/step - loss: 1.3226e-04\n",
      "Epoch 42/200\n",
      "6756/6756 [==============================] - 14s 2ms/step - loss: 1.3173e-04\n",
      "Epoch 43/200\n",
      "6756/6756 [==============================] - 13s 2ms/step - loss: 1.3118e-04\n",
      "Epoch 44/200\n",
      "6756/6756 [==============================] - 13s 2ms/step - loss: 1.3049e-04\n",
      "Epoch 45/200\n",
      "6756/6756 [==============================] - 14s 2ms/step - loss: 1.3007e-04\n",
      "Epoch 46/200\n",
      "6756/6756 [==============================] - 13s 2ms/step - loss: 1.2972e-04\n",
      "Epoch 47/200\n",
      "6756/6756 [==============================] - 14s 2ms/step - loss: 1.2925e-04\n",
      "Epoch 48/200\n",
      "6756/6756 [==============================] - 14s 2ms/step - loss: 1.2875e-04\n",
      "Epoch 49/200\n",
      "6756/6756 [==============================] - 14s 2ms/step - loss: 1.2839e-04\n",
      "Epoch 50/200\n",
      "6756/6756 [==============================] - 14s 2ms/step - loss: 1.2800e-04\n",
      "Epoch 51/200\n",
      "6756/6756 [==============================] - 13s 2ms/step - loss: 1.2760e-04\n",
      "Epoch 52/200\n",
      "6756/6756 [==============================] - 14s 2ms/step - loss: 1.2715e-04\n",
      "Epoch 53/200\n",
      "6756/6756 [==============================] - 17s 2ms/step - loss: 1.2685e-04\n",
      "Epoch 54/200\n",
      "6756/6756 [==============================] - 15s 2ms/step - loss: 1.2651e-04\n",
      "Epoch 55/200\n",
      "6756/6756 [==============================] - 15s 2ms/step - loss: 1.2615e-04\n",
      "Epoch 56/200\n",
      "6756/6756 [==============================] - 15s 2ms/step - loss: 1.2583e-04\n",
      "Epoch 57/200\n",
      "6756/6756 [==============================] - 15s 2ms/step - loss: 1.2555e-04\n",
      "Epoch 58/200\n",
      "6756/6756 [==============================] - 16s 2ms/step - loss: 1.2530e-04\n",
      "Epoch 59/200\n",
      "6756/6756 [==============================] - 16s 2ms/step - loss: 1.2504e-04\n",
      "Epoch 60/200\n",
      "6756/6756 [==============================] - 16s 2ms/step - loss: 1.2474e-04\n",
      "Epoch 61/200\n",
      "6756/6756 [==============================] - 16s 2ms/step - loss: 1.2457e-04\n",
      "Epoch 62/200\n",
      "6756/6756 [==============================] - 16s 2ms/step - loss: 1.2424e-04\n",
      "Epoch 63/200\n",
      "6756/6756 [==============================] - 16s 2ms/step - loss: 1.2306e-04\n",
      "Epoch 64/200\n",
      "6756/6756 [==============================] - 16s 2ms/step - loss: 1.2125e-04\n",
      "Epoch 65/200\n",
      "6756/6756 [==============================] - 16s 2ms/step - loss: 1.2199e-04\n",
      "Epoch 66/200\n",
      "6756/6756 [==============================] - 16s 2ms/step - loss: 1.2298e-04\n",
      "Epoch 67/200\n",
      "6756/6756 [==============================] - 16s 2ms/step - loss: 1.2461e-04\n",
      "Epoch 68/200\n",
      "6756/6756 [==============================] - 16s 2ms/step - loss: 1.2520e-04\n",
      "Epoch 69/200\n",
      "6756/6756 [==============================] - 16s 2ms/step - loss: 1.2593e-04\n",
      "Epoch 00069: early stopping\n"
     ]
    }
   ],
   "source": [
    "K.clear_session()\n",
    "model_lstm = Sequential()\n",
    "model_lstm.add(LSTM(12, input_shape=(1, X_train.shape[1]), activation='relu', \n",
    "                    kernel_initializer='lecun_uniform', return_sequences=False))\n",
    "\n",
    "model_lstm.add(Dense(1))\n",
    "model_lstm.compile(loss='mean_squared_error', optimizer='adam')\n",
    "early_stop = EarlyStopping(monitor='loss', patience=5, verbose=1)\n",
    "history_model_lstm = model_lstm.fit(X_train_lstm, y_train, epochs=200, batch_size=1, verbose=1, shuffle=False, callbacks=[early_stop])\n",
    "\n",
    "y_pred_test_lstm = model_lstm.predict(X_test_lstm)\n",
    "y_train_pred_lstm = model_lstm.predict(X_train_lstm)"
   ]
  },
  {
   "cell_type": "code",
   "execution_count": 93,
   "metadata": {},
   "outputs": [],
   "source": [
    "model_lstm.save('USGG_LSTM.h5')"
   ]
  },
  {
   "cell_type": "code",
   "execution_count": 85,
   "metadata": {},
   "outputs": [],
   "source": [
    "model_lstm = load_model('USGG_LSTM.h5')"
   ]
  },
  {
   "cell_type": "code",
   "execution_count": 88,
   "metadata": {},
   "outputs": [],
   "source": [
    "y_pred_test_LSTM = model_lstm.predict(X_test_lstm)"
   ]
  },
  {
   "cell_type": "code",
   "execution_count": 90,
   "metadata": {},
   "outputs": [],
   "source": [
    "y_test_reset = y_test.reset_index()\n",
    "y_true = y_test.to_numpy()"
   ]
  },
  {
   "cell_type": "code",
   "execution_count": 91,
   "metadata": {},
   "outputs": [],
   "source": [
    "col1 = pd.DataFrame(y_true, columns=['True'])\n",
    "col2 = pd.DataFrame(y_pred_test_LSTM, columns=['LSTM_prediction'])\n",
    "results = pd.concat([col1, col2], axis=1)"
   ]
  },
  {
   "cell_type": "code",
   "execution_count": 96,
   "metadata": {},
   "outputs": [
    {
     "data": {
      "image/png": "[encoded data removed]",
      "text/plain": [
       "<Figure size 432x288 with 1 Axes>"
      ]
     },
     "metadata": {
      "needs_background": "light"
     },
     "output_type": "display_data"
    }
   ],
   "source": [
    "plt.plot(results['True'], label='True')\n",
    "plt.plot(results['LSTM_prediction'], label='LSTM')\n",
    "plt.title(\"10yr Treasury Yield Prediction\")\n",
    "plt.xlabel('Observation')\n",
    "plt.ylabel('US 10yr Yield Scaled')\n",
    "plt.legend()\n",
    "plt.show()"
   ]
  },
  {
   "cell_type": "code",
   "execution_count": null,
   "metadata": {},
   "outputs": [],
   "source": []
  }
 ],
 "metadata": {
  "kernelspec": {
   "display_name": "Python 3",
   "language": "python",
   "name": "python3"
  },
  "language_info": {
   "codemirror_mode": {
    "name": "ipython",
    "version": 3
   },
   "file_extension": ".py",
   "mimetype": "text/x-python",
   "name": "python",
   "nbconvert_exporter": "python",
   "pygments_lexer": "ipython3",
   "version": "3.7.4"
  }
 },
 "nbformat": 4,
 "nbformat_minor": 2
}
